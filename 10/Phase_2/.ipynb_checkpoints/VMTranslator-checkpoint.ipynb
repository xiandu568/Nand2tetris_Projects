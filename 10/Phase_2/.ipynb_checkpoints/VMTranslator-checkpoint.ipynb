{
 "cells": [
  {
   "cell_type": "code",
   "execution_count": 1,
   "id": "95d7efb3",
   "metadata": {},
   "outputs": [
    {
     "name": "stdout",
     "output_type": "stream",
     "text": [
      "importing Jupyter notebook from Parser.ipynb\n",
      "importing Jupyter notebook from CodeWriter.ipynb\n"
     ]
    }
   ],
   "source": [
    "import import_ipynb\n",
    "import os.path\n",
    "from Parser import Parser\n",
    "from CodeWriter import CodeWriter"
   ]
  },
  {
   "cell_type": "code",
   "execution_count": 2,
   "id": "8487f949",
   "metadata": {},
   "outputs": [],
   "source": [
    "def main(path):\n",
    "    inDir = [] # 输入文件名列表\n",
    "    outPath = '' # 输出文件名\n",
    "    if os.path.isdir(path):\n",
    "        for root, dirs, files in os.walk(path):\n",
    "            for file in files:\n",
    "                if os.path.splitext(file)[1] == '.vm':\n",
    "                    inDir.append(os.path.join(root , file))\n",
    "        outPath = path + '/' + path.split('/')[-1] + '.asm'\n",
    "    if os.path.isfile(path):\n",
    "        inDir.append(path)\n",
    "        outPath = path.replace('.vm', '.asm')\n",
    "\n",
    "    fileOut = open(outPath, 'w')\n",
    "    codeWriter = CodeWriter(fileOut)\n",
    "    for inPath in inDir:\n",
    "        fileIn = open(inPath, 'r')\n",
    "        parser = Parser(fileIn)\n",
    "        while(parser.hasMoreCommands()):\n",
    "            parser.advance()\n",
    "            if parser.commandType() == 'C_ARITHMETIC':\n",
    "                command = parser.commandType() + ' ' + parser.arg1()\n",
    "                fileOut.write('\\n// ' + command + '\\n')\n",
    "                codeWriter.writeArithmetic(parser.arg1())\n",
    "            if parser.commandType() == 'C_PUSH' or parser.commandType() == 'C_POP':\n",
    "                offset = parser.arg2()\n",
    "                if parser.arg1() == 'static': # 如果是静态变量\n",
    "                    offset = inPath.split('/')[-1].split('.')[0] + '.' + parser.arg2()\n",
    "                command = parser.commandType() + ' ' + parser.arg1() + ' ' + offset\n",
    "                fileOut.write('\\n// ' + command + '\\n')\n",
    "                codeWriter.writePushPop(parser.commandType(), parser.arg1(), offset)\n",
    "            if parser.commandType() == 'C_LABEL':\n",
    "                command = parser.commandType() + ' ' + parser.arg1()\n",
    "                fileOut.write('\\n// ' + command + '\\n')\n",
    "                codeWriter.writeLabel(parser.arg1())\n",
    "            if parser.commandType() == 'C_GOTO':\n",
    "                command = parser.commandType() + ' ' + parser.arg1()\n",
    "                fileOut.write('\\n// ' + command + '\\n')\n",
    "                codeWriter.writeGoto(parser.arg1())\n",
    "            if parser.commandType() == 'C_IF':\n",
    "                command = parser.commandType() + ' ' + parser.arg1()\n",
    "                fileOut.write('\\n// ' + command + '\\n')\n",
    "                codeWriter.writeIf(parser.arg1())\n",
    "            print(command)\n",
    "\n",
    "    codeWriter.close()"
   ]
  },
  {
   "cell_type": "code",
   "execution_count": 5,
   "id": "e713dd39",
   "metadata": {},
   "outputs": [
    {
     "name": "stdout",
     "output_type": "stream",
     "text": [
      "C_PUSH argument 1\n",
      "C_POP pointer 1\n",
      "C_PUSH constant 0\n",
      "C_POP that 0\n",
      "C_PUSH constant 1\n",
      "C_POP that 1\n",
      "C_PUSH argument 0\n",
      "C_PUSH constant 2\n",
      "C_ARITHMETIC sub\n",
      "C_POP argument 0\n",
      "C_LABEL MAIN_LOOP_START\n",
      "C_PUSH argument 0\n",
      "C_IF COMPUTE_ELEMENT\n",
      "C_GOTO END_PROGRAM\n",
      "C_LABEL COMPUTE_ELEMENT\n",
      "C_PUSH that 0\n",
      "C_PUSH that 1\n",
      "C_ARITHMETIC add\n",
      "C_POP that 2\n",
      "C_PUSH pointer 1\n",
      "C_PUSH constant 1\n",
      "C_ARITHMETIC add\n",
      "C_POP pointer 1\n",
      "C_PUSH argument 0\n",
      "C_PUSH constant 1\n",
      "C_ARITHMETIC sub\n",
      "C_POP argument 0\n",
      "C_GOTO MAIN_LOOP_START\n",
      "C_LABEL END_PROGRAM\n"
     ]
    }
   ],
   "source": [
    "path = '/Users/ceshi/Desktop/计算机系统要素/nand2tetris/projects/08/ProgramFlow/FibonacciSeries/FibonacciSeries.vm'\n",
    "main(path)"
   ]
  }
 ],
 "metadata": {
  "kernelspec": {
   "display_name": "Python 3",
   "language": "python",
   "name": "python3"
  },
  "language_info": {
   "codemirror_mode": {
    "name": "ipython",
    "version": 3
   },
   "file_extension": ".py",
   "mimetype": "text/x-python",
   "name": "python",
   "nbconvert_exporter": "python",
   "pygments_lexer": "ipython3",
   "version": "3.7.10"
  }
 },
 "nbformat": 4,
 "nbformat_minor": 5
}
