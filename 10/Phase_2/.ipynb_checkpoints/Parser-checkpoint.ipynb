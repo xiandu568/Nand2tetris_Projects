{
 "cells": [
  {
   "cell_type": "code",
   "execution_count": 1,
   "id": "ef1bdbf2",
   "metadata": {},
   "outputs": [],
   "source": [
    "import re\n",
    "\n",
    "class Parser:\n",
    "    instructions = []\n",
    "    pc = -1\n",
    "    length = 0\n",
    "    Type = ''\n",
    "\n",
    "    def __init__(self, file):\n",
    "        for line in file.readlines():\n",
    "            line = line.strip() # 移除每行首尾的空格\n",
    "            if (line == '' or re.match(r'^(\\/\\/)',line)): # 忽略以//开头的行\n",
    "                continue\n",
    "            line = re.sub(r'(\\/\\/).*', '',line).strip() # 移除//之后的部分\n",
    "            self.instructions.append(line)\n",
    "            self.length = self.length + 1\n",
    "\n",
    "    def hasMoreCommands(self):\n",
    "        return self.pc < self.length - 1\n",
    "\n",
    "    def advance(self):\n",
    "        self.pc = self.pc + 1\n",
    "\n",
    "    def commandType(self):\n",
    "        self.Type = ''\n",
    "        if self.instructions[self.pc].split(' ')[0] == 'pop':\n",
    "            self.Type = 'C_POP'\n",
    "        if self.instructions[self.pc].split(' ')[0] == 'push':\n",
    "            self.Type = 'C_PUSH'\n",
    "        if self.instructions[self.pc].split(' ')[0] == 'label':\n",
    "            self.Type = 'C_LABEL'\n",
    "        if self.instructions[self.pc].split(' ')[0] == 'goto':\n",
    "            self.Type = 'C_GOTO'\n",
    "        if self.instructions[self.pc].split(' ')[0] == 'if-goto':\n",
    "            self.Type = 'C_IF'\n",
    "        if self.Type == '':\n",
    "            self.Type = 'C_ARITHMETIC'\n",
    "        return self.Type\n",
    "    \n",
    "    def arg1(self):\n",
    "        if self.Type == 'C_ARITHMETIC': # 如果是计算类型，则返回命令本身，否则返回命令的第一个参数\n",
    "            return self.instructions[self.pc]\n",
    "        return self.instructions[self.pc].split(' ')[1]\n",
    "    \n",
    "    def arg2(self):\n",
    "        return self.instructions[self.pc].split(' ')[2]"
   ]
  }
 ],
 "metadata": {
  "kernelspec": {
   "display_name": "Python 3",
   "language": "python",
   "name": "python3"
  },
  "language_info": {
   "codemirror_mode": {
    "name": "ipython",
    "version": 3
   },
   "file_extension": ".py",
   "mimetype": "text/x-python",
   "name": "python",
   "nbconvert_exporter": "python",
   "pygments_lexer": "ipython3",
   "version": "3.7.10"
  }
 },
 "nbformat": 4,
 "nbformat_minor": 5
}
